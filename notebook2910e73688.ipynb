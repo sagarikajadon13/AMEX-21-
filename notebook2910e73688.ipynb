{
 "cells": [
  {
   "cell_type": "code",
   "execution_count": 1,
   "id": "3e54a4e2",
   "metadata": {
    "execution": {
     "iopub.execute_input": "2022-07-07T06:23:11.626943Z",
     "iopub.status.busy": "2022-07-07T06:23:11.626011Z",
     "iopub.status.idle": "2022-07-07T06:23:12.922350Z",
     "shell.execute_reply": "2022-07-07T06:23:12.921141Z"
    },
    "papermill": {
     "duration": 1.304487,
     "end_time": "2022-07-07T06:23:12.925257",
     "exception": false,
     "start_time": "2022-07-07T06:23:11.620770",
     "status": "completed"
    },
    "tags": []
   },
   "outputs": [],
   "source": [
    "import numpy as np\n",
    "import pandas as pd\n",
    "import matplotlib.pyplot as plt\n",
    "import seaborn as sns\n",
    "\n",
    "from sklearn.preprocessing import LabelEncoder\n",
    "from sklearn.feature_extraction.text import CountVectorizer, TfidfVectorizer"
   ]
  },
  {
   "cell_type": "code",
   "execution_count": 2,
   "id": "26942801",
   "metadata": {
    "execution": {
     "iopub.execute_input": "2022-07-07T06:23:12.932766Z",
     "iopub.status.busy": "2022-07-07T06:23:12.932381Z",
     "iopub.status.idle": "2022-07-07T06:23:13.241879Z",
     "shell.execute_reply": "2022-07-07T06:23:13.240915Z"
    },
    "papermill": {
     "duration": 0.316133,
     "end_time": "2022-07-07T06:23:13.244435",
     "exception": false,
     "start_time": "2022-07-07T06:23:12.928302",
     "status": "completed"
    },
    "tags": []
   },
   "outputs": [],
   "source": [
    "train= pd.read_csv('../input/feedback-prize-effectiveness/train.csv')\n",
    "test= pd.read_csv('../input/feedback-prize-effectiveness/test.csv')\n",
    "sub= pd.read_csv('../input/feedback-prize-effectiveness/sample_submission.csv')"
   ]
  },
  {
   "cell_type": "code",
   "execution_count": 3,
   "id": "406db044",
   "metadata": {
    "execution": {
     "iopub.execute_input": "2022-07-07T06:23:13.252186Z",
     "iopub.status.busy": "2022-07-07T06:23:13.251514Z",
     "iopub.status.idle": "2022-07-07T06:23:13.275038Z",
     "shell.execute_reply": "2022-07-07T06:23:13.273878Z"
    },
    "papermill": {
     "duration": 0.030459,
     "end_time": "2022-07-07T06:23:13.277796",
     "exception": false,
     "start_time": "2022-07-07T06:23:13.247337",
     "status": "completed"
    },
    "tags": []
   },
   "outputs": [
    {
     "data": {
      "text/html": [
       "<div>\n",
       "<style scoped>\n",
       "    .dataframe tbody tr th:only-of-type {\n",
       "        vertical-align: middle;\n",
       "    }\n",
       "\n",
       "    .dataframe tbody tr th {\n",
       "        vertical-align: top;\n",
       "    }\n",
       "\n",
       "    .dataframe thead th {\n",
       "        text-align: right;\n",
       "    }\n",
       "</style>\n",
       "<table border=\"1\" class=\"dataframe\">\n",
       "  <thead>\n",
       "    <tr style=\"text-align: right;\">\n",
       "      <th></th>\n",
       "      <th>discourse_id</th>\n",
       "      <th>essay_id</th>\n",
       "      <th>discourse_text</th>\n",
       "      <th>discourse_type</th>\n",
       "      <th>discourse_effectiveness</th>\n",
       "    </tr>\n",
       "  </thead>\n",
       "  <tbody>\n",
       "    <tr>\n",
       "      <th>0</th>\n",
       "      <td>0013cc385424</td>\n",
       "      <td>007ACE74B050</td>\n",
       "      <td>Hi, i'm Isaac, i'm going to be writing about h...</td>\n",
       "      <td>Lead</td>\n",
       "      <td>Adequate</td>\n",
       "    </tr>\n",
       "    <tr>\n",
       "      <th>1</th>\n",
       "      <td>9704a709b505</td>\n",
       "      <td>007ACE74B050</td>\n",
       "      <td>On my perspective, I think that the face is a ...</td>\n",
       "      <td>Position</td>\n",
       "      <td>Adequate</td>\n",
       "    </tr>\n",
       "    <tr>\n",
       "      <th>2</th>\n",
       "      <td>c22adee811b6</td>\n",
       "      <td>007ACE74B050</td>\n",
       "      <td>I think that the face is a natural landform be...</td>\n",
       "      <td>Claim</td>\n",
       "      <td>Adequate</td>\n",
       "    </tr>\n",
       "    <tr>\n",
       "      <th>3</th>\n",
       "      <td>a10d361e54e4</td>\n",
       "      <td>007ACE74B050</td>\n",
       "      <td>If life was on Mars, we would know by now. The...</td>\n",
       "      <td>Evidence</td>\n",
       "      <td>Adequate</td>\n",
       "    </tr>\n",
       "    <tr>\n",
       "      <th>4</th>\n",
       "      <td>db3e453ec4e2</td>\n",
       "      <td>007ACE74B050</td>\n",
       "      <td>People thought that the face was formed by ali...</td>\n",
       "      <td>Counterclaim</td>\n",
       "      <td>Adequate</td>\n",
       "    </tr>\n",
       "    <tr>\n",
       "      <th>5</th>\n",
       "      <td>36a565e45db7</td>\n",
       "      <td>007ACE74B050</td>\n",
       "      <td>though some say that life on Mars does exist, ...</td>\n",
       "      <td>Rebuttal</td>\n",
       "      <td>Ineffective</td>\n",
       "    </tr>\n",
       "    <tr>\n",
       "      <th>6</th>\n",
       "      <td>fb65fe816ba3</td>\n",
       "      <td>007ACE74B050</td>\n",
       "      <td>It says in paragraph 7, on April 5, 1998, Mars...</td>\n",
       "      <td>Evidence</td>\n",
       "      <td>Adequate</td>\n",
       "    </tr>\n",
       "    <tr>\n",
       "      <th>7</th>\n",
       "      <td>4e472e2584fa</td>\n",
       "      <td>007ACE74B050</td>\n",
       "      <td>Everyone who thought it was made by alieans ev...</td>\n",
       "      <td>Counterclaim</td>\n",
       "      <td>Adequate</td>\n",
       "    </tr>\n",
       "    <tr>\n",
       "      <th>8</th>\n",
       "      <td>28a94d3ee425</td>\n",
       "      <td>007ACE74B050</td>\n",
       "      <td>Though people were not satified about how the ...</td>\n",
       "      <td>Concluding Statement</td>\n",
       "      <td>Adequate</td>\n",
       "    </tr>\n",
       "    <tr>\n",
       "      <th>9</th>\n",
       "      <td>d226f06362f5</td>\n",
       "      <td>00944C693682</td>\n",
       "      <td>Limiting the usage of cars has personal and pr...</td>\n",
       "      <td>Lead</td>\n",
       "      <td>Effective</td>\n",
       "    </tr>\n",
       "    <tr>\n",
       "      <th>10</th>\n",
       "      <td>de347c859ab6</td>\n",
       "      <td>00944C693682</td>\n",
       "      <td>With so many things in this world that few peo...</td>\n",
       "      <td>Position</td>\n",
       "      <td>Effective</td>\n",
       "    </tr>\n",
       "    <tr>\n",
       "      <th>11</th>\n",
       "      <td>cc921c5cfda4</td>\n",
       "      <td>00944C693682</td>\n",
       "      <td>stress.</td>\n",
       "      <td>Claim</td>\n",
       "      <td>Adequate</td>\n",
       "    </tr>\n",
       "    <tr>\n",
       "      <th>12</th>\n",
       "      <td>a6fcdd9110ab</td>\n",
       "      <td>00944C693682</td>\n",
       "      <td>It is no secret that morning traffic jams and ...</td>\n",
       "      <td>Evidence</td>\n",
       "      <td>Effective</td>\n",
       "    </tr>\n",
       "    <tr>\n",
       "      <th>13</th>\n",
       "      <td>6efd9102298b</td>\n",
       "      <td>00944C693682</td>\n",
       "      <td>the environment suffers greatly from the many ...</td>\n",
       "      <td>Claim</td>\n",
       "      <td>Effective</td>\n",
       "    </tr>\n",
       "    <tr>\n",
       "      <th>14</th>\n",
       "      <td>d6807f31da92</td>\n",
       "      <td>00944C693682</td>\n",
       "      <td>\"Passenger cars are responsible for 12 percent...</td>\n",
       "      <td>Evidence</td>\n",
       "      <td>Effective</td>\n",
       "    </tr>\n",
       "    <tr>\n",
       "      <th>15</th>\n",
       "      <td>024f3edf0cdb</td>\n",
       "      <td>00944C693682</td>\n",
       "      <td>, adding the last two reasons together makes f...</td>\n",
       "      <td>Claim</td>\n",
       "      <td>Effective</td>\n",
       "    </tr>\n",
       "    <tr>\n",
       "      <th>16</th>\n",
       "      <td>cf5dc6eb65e0</td>\n",
       "      <td>00944C693682</td>\n",
       "      <td>If it must be described as \"emissions ... are ...</td>\n",
       "      <td>Evidence</td>\n",
       "      <td>Adequate</td>\n",
       "    </tr>\n",
       "    <tr>\n",
       "      <th>17</th>\n",
       "      <td>8df2da9994bf</td>\n",
       "      <td>00944C693682</td>\n",
       "      <td>It is also worth noting that cities that have ...</td>\n",
       "      <td>Claim</td>\n",
       "      <td>Effective</td>\n",
       "    </tr>\n",
       "    <tr>\n",
       "      <th>18</th>\n",
       "      <td>033845420f01</td>\n",
       "      <td>00944C693682</td>\n",
       "      <td>In Vauban, \"stores are placed a walk away, on ...</td>\n",
       "      <td>Evidence</td>\n",
       "      <td>Effective</td>\n",
       "    </tr>\n",
       "    <tr>\n",
       "      <th>19</th>\n",
       "      <td>9fd314f638e5</td>\n",
       "      <td>00944C693682</td>\n",
       "      <td>Individual car use isn't bad. Millions of indi...</td>\n",
       "      <td>Concluding Statement</td>\n",
       "      <td>Effective</td>\n",
       "    </tr>\n",
       "    <tr>\n",
       "      <th>20</th>\n",
       "      <td>ed7e62a18bad</td>\n",
       "      <td>00BD97EA4041</td>\n",
       "      <td>Should computers read the emotional expression...</td>\n",
       "      <td>Lead</td>\n",
       "      <td>Adequate</td>\n",
       "    </tr>\n",
       "    <tr>\n",
       "      <th>21</th>\n",
       "      <td>c20937683442</td>\n",
       "      <td>00BD97EA4041</td>\n",
       "      <td>No because, why should a computer know how you...</td>\n",
       "      <td>Position</td>\n",
       "      <td>Adequate</td>\n",
       "    </tr>\n",
       "    <tr>\n",
       "      <th>22</th>\n",
       "      <td>4faec979a617</td>\n",
       "      <td>00BD97EA4041</td>\n",
       "      <td>It wouldn't change the emotion the students fe...</td>\n",
       "      <td>Claim</td>\n",
       "      <td>Adequate</td>\n",
       "    </tr>\n",
       "    <tr>\n",
       "      <th>23</th>\n",
       "      <td>a44371d6abc5</td>\n",
       "      <td>00BD97EA4041</td>\n",
       "      <td>The process begins when the computer puts toge...</td>\n",
       "      <td>Evidence</td>\n",
       "      <td>Ineffective</td>\n",
       "    </tr>\n",
       "    <tr>\n",
       "      <th>24</th>\n",
       "      <td>e9257d57eae0</td>\n",
       "      <td>00BD97EA4041</td>\n",
       "      <td>When facial facial expressions a made its abou...</td>\n",
       "      <td>Evidence</td>\n",
       "      <td>Adequate</td>\n",
       "    </tr>\n",
       "    <tr>\n",
       "      <th>25</th>\n",
       "      <td>4a1e697d6488</td>\n",
       "      <td>00BD97EA4041</td>\n",
       "      <td>This idea is nothing but just a distraction fo...</td>\n",
       "      <td>Claim</td>\n",
       "      <td>Adequate</td>\n",
       "    </tr>\n",
       "    <tr>\n",
       "      <th>26</th>\n",
       "      <td>af494e4e0b4f</td>\n",
       "      <td>00BD97EA4041</td>\n",
       "      <td>To conclusion computers in school shouldn't de...</td>\n",
       "      <td>Concluding Statement</td>\n",
       "      <td>Adequate</td>\n",
       "    </tr>\n",
       "    <tr>\n",
       "      <th>27</th>\n",
       "      <td>9d03e2bef0ff</td>\n",
       "      <td>00C6E82FE5BA</td>\n",
       "      <td>I think that it wouldn't be valueable to have ...</td>\n",
       "      <td>Position</td>\n",
       "      <td>Adequate</td>\n",
       "    </tr>\n",
       "    <tr>\n",
       "      <th>28</th>\n",
       "      <td>cb1efb91bfe4</td>\n",
       "      <td>00C6E82FE5BA</td>\n",
       "      <td>the fact that its really easy for someone else...</td>\n",
       "      <td>Claim</td>\n",
       "      <td>Adequate</td>\n",
       "    </tr>\n",
       "    <tr>\n",
       "      <th>29</th>\n",
       "      <td>095847b91399</td>\n",
       "      <td>00C6E82FE5BA</td>\n",
       "      <td>People use face reconition alot and it can be ...</td>\n",
       "      <td>Evidence</td>\n",
       "      <td>Adequate</td>\n",
       "    </tr>\n",
       "  </tbody>\n",
       "</table>\n",
       "</div>"
      ],
      "text/plain": [
       "    discourse_id      essay_id  \\\n",
       "0   0013cc385424  007ACE74B050   \n",
       "1   9704a709b505  007ACE74B050   \n",
       "2   c22adee811b6  007ACE74B050   \n",
       "3   a10d361e54e4  007ACE74B050   \n",
       "4   db3e453ec4e2  007ACE74B050   \n",
       "5   36a565e45db7  007ACE74B050   \n",
       "6   fb65fe816ba3  007ACE74B050   \n",
       "7   4e472e2584fa  007ACE74B050   \n",
       "8   28a94d3ee425  007ACE74B050   \n",
       "9   d226f06362f5  00944C693682   \n",
       "10  de347c859ab6  00944C693682   \n",
       "11  cc921c5cfda4  00944C693682   \n",
       "12  a6fcdd9110ab  00944C693682   \n",
       "13  6efd9102298b  00944C693682   \n",
       "14  d6807f31da92  00944C693682   \n",
       "15  024f3edf0cdb  00944C693682   \n",
       "16  cf5dc6eb65e0  00944C693682   \n",
       "17  8df2da9994bf  00944C693682   \n",
       "18  033845420f01  00944C693682   \n",
       "19  9fd314f638e5  00944C693682   \n",
       "20  ed7e62a18bad  00BD97EA4041   \n",
       "21  c20937683442  00BD97EA4041   \n",
       "22  4faec979a617  00BD97EA4041   \n",
       "23  a44371d6abc5  00BD97EA4041   \n",
       "24  e9257d57eae0  00BD97EA4041   \n",
       "25  4a1e697d6488  00BD97EA4041   \n",
       "26  af494e4e0b4f  00BD97EA4041   \n",
       "27  9d03e2bef0ff  00C6E82FE5BA   \n",
       "28  cb1efb91bfe4  00C6E82FE5BA   \n",
       "29  095847b91399  00C6E82FE5BA   \n",
       "\n",
       "                                       discourse_text        discourse_type  \\\n",
       "0   Hi, i'm Isaac, i'm going to be writing about h...                  Lead   \n",
       "1   On my perspective, I think that the face is a ...              Position   \n",
       "2   I think that the face is a natural landform be...                 Claim   \n",
       "3   If life was on Mars, we would know by now. The...              Evidence   \n",
       "4   People thought that the face was formed by ali...          Counterclaim   \n",
       "5   though some say that life on Mars does exist, ...              Rebuttal   \n",
       "6   It says in paragraph 7, on April 5, 1998, Mars...              Evidence   \n",
       "7   Everyone who thought it was made by alieans ev...          Counterclaim   \n",
       "8   Though people were not satified about how the ...  Concluding Statement   \n",
       "9   Limiting the usage of cars has personal and pr...                  Lead   \n",
       "10  With so many things in this world that few peo...              Position   \n",
       "11                                           stress.                  Claim   \n",
       "12  It is no secret that morning traffic jams and ...              Evidence   \n",
       "13  the environment suffers greatly from the many ...                 Claim   \n",
       "14  \"Passenger cars are responsible for 12 percent...              Evidence   \n",
       "15  , adding the last two reasons together makes f...                 Claim   \n",
       "16  If it must be described as \"emissions ... are ...              Evidence   \n",
       "17  It is also worth noting that cities that have ...                 Claim   \n",
       "18  In Vauban, \"stores are placed a walk away, on ...              Evidence   \n",
       "19  Individual car use isn't bad. Millions of indi...  Concluding Statement   \n",
       "20  Should computers read the emotional expression...                  Lead   \n",
       "21  No because, why should a computer know how you...              Position   \n",
       "22  It wouldn't change the emotion the students fe...                 Claim   \n",
       "23  The process begins when the computer puts toge...              Evidence   \n",
       "24  When facial facial expressions a made its abou...              Evidence   \n",
       "25  This idea is nothing but just a distraction fo...                 Claim   \n",
       "26  To conclusion computers in school shouldn't de...  Concluding Statement   \n",
       "27  I think that it wouldn't be valueable to have ...              Position   \n",
       "28  the fact that its really easy for someone else...                 Claim   \n",
       "29  People use face reconition alot and it can be ...              Evidence   \n",
       "\n",
       "   discourse_effectiveness  \n",
       "0                 Adequate  \n",
       "1                 Adequate  \n",
       "2                 Adequate  \n",
       "3                 Adequate  \n",
       "4                 Adequate  \n",
       "5              Ineffective  \n",
       "6                 Adequate  \n",
       "7                 Adequate  \n",
       "8                 Adequate  \n",
       "9                Effective  \n",
       "10               Effective  \n",
       "11                Adequate  \n",
       "12               Effective  \n",
       "13               Effective  \n",
       "14               Effective  \n",
       "15               Effective  \n",
       "16                Adequate  \n",
       "17               Effective  \n",
       "18               Effective  \n",
       "19               Effective  \n",
       "20                Adequate  \n",
       "21                Adequate  \n",
       "22                Adequate  \n",
       "23             Ineffective  \n",
       "24                Adequate  \n",
       "25                Adequate  \n",
       "26                Adequate  \n",
       "27                Adequate  \n",
       "28                Adequate  \n",
       "29                Adequate  "
      ]
     },
     "execution_count": 3,
     "metadata": {},
     "output_type": "execute_result"
    }
   ],
   "source": [
    "train.head(30)"
   ]
  },
  {
   "cell_type": "code",
   "execution_count": 4,
   "id": "f6f84f93",
   "metadata": {
    "execution": {
     "iopub.execute_input": "2022-07-07T06:23:13.288024Z",
     "iopub.status.busy": "2022-07-07T06:23:13.285748Z",
     "iopub.status.idle": "2022-07-07T06:23:13.293839Z",
     "shell.execute_reply": "2022-07-07T06:23:13.292729Z"
    },
    "papermill": {
     "duration": 0.014639,
     "end_time": "2022-07-07T06:23:13.295906",
     "exception": false,
     "start_time": "2022-07-07T06:23:13.281267",
     "status": "completed"
    },
    "tags": []
   },
   "outputs": [
    {
     "data": {
      "text/plain": [
       "(36765, 5)"
      ]
     },
     "execution_count": 4,
     "metadata": {},
     "output_type": "execute_result"
    }
   ],
   "source": [
    "train.shape"
   ]
  },
  {
   "cell_type": "code",
   "execution_count": 5,
   "id": "bdf157aa",
   "metadata": {
    "execution": {
     "iopub.execute_input": "2022-07-07T06:23:13.304679Z",
     "iopub.status.busy": "2022-07-07T06:23:13.303625Z",
     "iopub.status.idle": "2022-07-07T06:23:13.367445Z",
     "shell.execute_reply": "2022-07-07T06:23:13.366672Z"
    },
    "papermill": {
     "duration": 0.070316,
     "end_time": "2022-07-07T06:23:13.369510",
     "exception": false,
     "start_time": "2022-07-07T06:23:13.299194",
     "status": "completed"
    },
    "tags": []
   },
   "outputs": [
    {
     "data": {
      "text/plain": [
       "discourse_id               36765\n",
       "essay_id                    4191\n",
       "discourse_text             36691\n",
       "discourse_type                 7\n",
       "discourse_effectiveness        3\n",
       "dtype: int64"
      ]
     },
     "execution_count": 5,
     "metadata": {},
     "output_type": "execute_result"
    }
   ],
   "source": [
    "train.nunique()"
   ]
  },
  {
   "cell_type": "code",
   "execution_count": 6,
   "id": "31c62476",
   "metadata": {
    "execution": {
     "iopub.execute_input": "2022-07-07T06:23:13.378034Z",
     "iopub.status.busy": "2022-07-07T06:23:13.377456Z",
     "iopub.status.idle": "2022-07-07T06:23:13.611627Z",
     "shell.execute_reply": "2022-07-07T06:23:13.610717Z"
    },
    "papermill": {
     "duration": 0.24068,
     "end_time": "2022-07-07T06:23:13.613646",
     "exception": false,
     "start_time": "2022-07-07T06:23:13.372966",
     "status": "completed"
    },
    "tags": []
   },
   "outputs": [
    {
     "name": "stderr",
     "output_type": "stream",
     "text": [
      "/opt/conda/lib/python3.7/site-packages/seaborn/_decorators.py:43: FutureWarning: Pass the following variable as a keyword arg: x. From version 0.12, the only valid positional argument will be `data`, and passing other arguments without an explicit keyword will result in an error or misinterpretation.\n",
      "  FutureWarning\n"
     ]
    },
    {
     "data": {
      "text/plain": [
       "<AxesSubplot:xlabel='discourse_effectiveness', ylabel='count'>"
      ]
     },
     "execution_count": 6,
     "metadata": {},
     "output_type": "execute_result"
    },
    {
     "data": {
      "image/png": "[encoded data removed]",
      "text/plain": [
       "<Figure size 432x288 with 1 Axes>"
      ]
     },
     "metadata": {
      "needs_background": "light"
     },
     "output_type": "display_data"
    }
   ],
   "source": [
    "sns.countplot(train['discourse_effectiveness'])"
   ]
  },
  {
   "cell_type": "markdown",
   "id": "48e668e3",
   "metadata": {
    "papermill": {
     "duration": 0.003505,
     "end_time": "2022-07-07T06:23:13.621096",
     "exception": false,
     "start_time": "2022-07-07T06:23:13.617591",
     "status": "completed"
    },
    "tags": []
   },
   "source": [
    "* human tendency to giving average(adequate) rating to everybody\n",
    "* try order of discourse_type- lead, position, claim, evidence, counterclaim, rebuttal, concluding statement\n",
    "    evidence following a claim is more effective, can append position, claim, evidence when training claim\n",
    "    lead- position\n",
    "    claim-evidence\n",
    "    counterclaim- rebuttal\n",
    "    concluding_statement-position\n",
    "    \n",
    "* group by essay_id for splitting"
   ]
  },
  {
   "cell_type": "code",
   "execution_count": 7,
   "id": "181555e5",
   "metadata": {
    "execution": {
     "iopub.execute_input": "2022-07-07T06:23:13.631075Z",
     "iopub.status.busy": "2022-07-07T06:23:13.629985Z",
     "iopub.status.idle": "2022-07-07T06:23:13.844080Z",
     "shell.execute_reply": "2022-07-07T06:23:13.843142Z"
    },
    "papermill": {
     "duration": 0.221416,
     "end_time": "2022-07-07T06:23:13.846331",
     "exception": false,
     "start_time": "2022-07-07T06:23:13.624915",
     "status": "completed"
    },
    "tags": []
   },
   "outputs": [
    {
     "name": "stderr",
     "output_type": "stream",
     "text": [
      "/opt/conda/lib/python3.7/site-packages/seaborn/_decorators.py:43: FutureWarning: Pass the following variable as a keyword arg: x. From version 0.12, the only valid positional argument will be `data`, and passing other arguments without an explicit keyword will result in an error or misinterpretation.\n",
      "  FutureWarning\n"
     ]
    },
    {
     "data": {
      "text/plain": [
       "<AxesSubplot:xlabel='discourse_type', ylabel='count'>"
      ]
     },
     "execution_count": 7,
     "metadata": {},
     "output_type": "execute_result"
    },
    {
     "data": {
      "image/png": "[encoded data removed]",
      "text/plain": [
       "<Figure size 720x360 with 1 Axes>"
      ]
     },
     "metadata": {
      "needs_background": "light"
     },
     "output_type": "display_data"
    }
   ],
   "source": [
    "plt.figure(figsize= (10, 5))\n",
    "sns.countplot(train['discourse_type'])"
   ]
  },
  {
   "cell_type": "code",
   "execution_count": 8,
   "id": "e4f746c1",
   "metadata": {
    "execution": {
     "iopub.execute_input": "2022-07-07T06:23:13.858715Z",
     "iopub.status.busy": "2022-07-07T06:23:13.856095Z",
     "iopub.status.idle": "2022-07-07T06:23:13.873483Z",
     "shell.execute_reply": "2022-07-07T06:23:13.872271Z"
    },
    "papermill": {
     "duration": 0.025428,
     "end_time": "2022-07-07T06:23:13.876082",
     "exception": false,
     "start_time": "2022-07-07T06:23:13.850654",
     "status": "completed"
    },
    "tags": []
   },
   "outputs": [
    {
     "data": {
      "text/html": [
       "<div>\n",
       "<style scoped>\n",
       "    .dataframe tbody tr th:only-of-type {\n",
       "        vertical-align: middle;\n",
       "    }\n",
       "\n",
       "    .dataframe tbody tr th {\n",
       "        vertical-align: top;\n",
       "    }\n",
       "\n",
       "    .dataframe thead th {\n",
       "        text-align: right;\n",
       "    }\n",
       "</style>\n",
       "<table border=\"1\" class=\"dataframe\">\n",
       "  <thead>\n",
       "    <tr style=\"text-align: right;\">\n",
       "      <th></th>\n",
       "      <th>discourse_id</th>\n",
       "      <th>essay_id</th>\n",
       "      <th>discourse_text</th>\n",
       "      <th>discourse_type</th>\n",
       "      <th>discourse_effectiveness</th>\n",
       "    </tr>\n",
       "  </thead>\n",
       "  <tbody>\n",
       "    <tr>\n",
       "      <th>9</th>\n",
       "      <td>d226f06362f5</td>\n",
       "      <td>00944C693682</td>\n",
       "      <td>Limiting the usage of cars has personal and pr...</td>\n",
       "      <td>Lead</td>\n",
       "      <td>Effective</td>\n",
       "    </tr>\n",
       "    <tr>\n",
       "      <th>10</th>\n",
       "      <td>de347c859ab6</td>\n",
       "      <td>00944C693682</td>\n",
       "      <td>With so many things in this world that few peo...</td>\n",
       "      <td>Position</td>\n",
       "      <td>Effective</td>\n",
       "    </tr>\n",
       "    <tr>\n",
       "      <th>11</th>\n",
       "      <td>cc921c5cfda4</td>\n",
       "      <td>00944C693682</td>\n",
       "      <td>stress.</td>\n",
       "      <td>Claim</td>\n",
       "      <td>Adequate</td>\n",
       "    </tr>\n",
       "    <tr>\n",
       "      <th>12</th>\n",
       "      <td>a6fcdd9110ab</td>\n",
       "      <td>00944C693682</td>\n",
       "      <td>It is no secret that morning traffic jams and ...</td>\n",
       "      <td>Evidence</td>\n",
       "      <td>Effective</td>\n",
       "    </tr>\n",
       "    <tr>\n",
       "      <th>13</th>\n",
       "      <td>6efd9102298b</td>\n",
       "      <td>00944C693682</td>\n",
       "      <td>the environment suffers greatly from the many ...</td>\n",
       "      <td>Claim</td>\n",
       "      <td>Effective</td>\n",
       "    </tr>\n",
       "    <tr>\n",
       "      <th>14</th>\n",
       "      <td>d6807f31da92</td>\n",
       "      <td>00944C693682</td>\n",
       "      <td>\"Passenger cars are responsible for 12 percent...</td>\n",
       "      <td>Evidence</td>\n",
       "      <td>Effective</td>\n",
       "    </tr>\n",
       "    <tr>\n",
       "      <th>15</th>\n",
       "      <td>024f3edf0cdb</td>\n",
       "      <td>00944C693682</td>\n",
       "      <td>, adding the last two reasons together makes f...</td>\n",
       "      <td>Claim</td>\n",
       "      <td>Effective</td>\n",
       "    </tr>\n",
       "    <tr>\n",
       "      <th>16</th>\n",
       "      <td>cf5dc6eb65e0</td>\n",
       "      <td>00944C693682</td>\n",
       "      <td>If it must be described as \"emissions ... are ...</td>\n",
       "      <td>Evidence</td>\n",
       "      <td>Adequate</td>\n",
       "    </tr>\n",
       "    <tr>\n",
       "      <th>17</th>\n",
       "      <td>8df2da9994bf</td>\n",
       "      <td>00944C693682</td>\n",
       "      <td>It is also worth noting that cities that have ...</td>\n",
       "      <td>Claim</td>\n",
       "      <td>Effective</td>\n",
       "    </tr>\n",
       "    <tr>\n",
       "      <th>18</th>\n",
       "      <td>033845420f01</td>\n",
       "      <td>00944C693682</td>\n",
       "      <td>In Vauban, \"stores are placed a walk away, on ...</td>\n",
       "      <td>Evidence</td>\n",
       "      <td>Effective</td>\n",
       "    </tr>\n",
       "    <tr>\n",
       "      <th>19</th>\n",
       "      <td>9fd314f638e5</td>\n",
       "      <td>00944C693682</td>\n",
       "      <td>Individual car use isn't bad. Millions of indi...</td>\n",
       "      <td>Concluding Statement</td>\n",
       "      <td>Effective</td>\n",
       "    </tr>\n",
       "  </tbody>\n",
       "</table>\n",
       "</div>"
      ],
      "text/plain": [
       "    discourse_id      essay_id  \\\n",
       "9   d226f06362f5  00944C693682   \n",
       "10  de347c859ab6  00944C693682   \n",
       "11  cc921c5cfda4  00944C693682   \n",
       "12  a6fcdd9110ab  00944C693682   \n",
       "13  6efd9102298b  00944C693682   \n",
       "14  d6807f31da92  00944C693682   \n",
       "15  024f3edf0cdb  00944C693682   \n",
       "16  cf5dc6eb65e0  00944C693682   \n",
       "17  8df2da9994bf  00944C693682   \n",
       "18  033845420f01  00944C693682   \n",
       "19  9fd314f638e5  00944C693682   \n",
       "\n",
       "                                       discourse_text        discourse_type  \\\n",
       "9   Limiting the usage of cars has personal and pr...                  Lead   \n",
       "10  With so many things in this world that few peo...              Position   \n",
       "11                                           stress.                  Claim   \n",
       "12  It is no secret that morning traffic jams and ...              Evidence   \n",
       "13  the environment suffers greatly from the many ...                 Claim   \n",
       "14  \"Passenger cars are responsible for 12 percent...              Evidence   \n",
       "15  , adding the last two reasons together makes f...                 Claim   \n",
       "16  If it must be described as \"emissions ... are ...              Evidence   \n",
       "17  It is also worth noting that cities that have ...                 Claim   \n",
       "18  In Vauban, \"stores are placed a walk away, on ...              Evidence   \n",
       "19  Individual car use isn't bad. Millions of indi...  Concluding Statement   \n",
       "\n",
       "   discourse_effectiveness  \n",
       "9                Effective  \n",
       "10               Effective  \n",
       "11                Adequate  \n",
       "12               Effective  \n",
       "13               Effective  \n",
       "14               Effective  \n",
       "15               Effective  \n",
       "16                Adequate  \n",
       "17               Effective  \n",
       "18               Effective  \n",
       "19               Effective  "
      ]
     },
     "execution_count": 8,
     "metadata": {},
     "output_type": "execute_result"
    }
   ],
   "source": [
    "train[train['essay_id']== '00944C693682']"
   ]
  },
  {
   "cell_type": "code",
   "execution_count": null,
   "id": "1cdb7567",
   "metadata": {
    "papermill": {
     "duration": 0.003999,
     "end_time": "2022-07-07T06:23:13.884521",
     "exception": false,
     "start_time": "2022-07-07T06:23:13.880522",
     "status": "completed"
    },
    "tags": []
   },
   "outputs": [],
   "source": []
  }
 ],
 "metadata": {
  "kernelspec": {
   "display_name": "Python 3",
   "language": "python",
   "name": "python3"
  },
  "language_info": {
   "codemirror_mode": {
    "name": "ipython",
    "version": 3
   },
   "file_extension": ".py",
   "mimetype": "text/x-python",
   "name": "python",
   "nbconvert_exporter": "python",
   "pygments_lexer": "ipython3",
   "version": "3.7.12"
  },
  "papermill": {
   "default_parameters": {},
   "duration": 12.262032,
   "end_time": "2022-07-07T06:23:14.612957",
   "environment_variables": {},
   "exception": null,
   "input_path": "__notebook__.ipynb",
   "output_path": "__notebook__.ipynb",
   "parameters": {},
   "start_time": "2022-07-07T06:23:02.350925",
   "version": "2.3.4"
  }
 },
 "nbformat": 4,
 "nbformat_minor": 5
}
